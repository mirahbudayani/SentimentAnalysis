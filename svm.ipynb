{
 "cells": [
  {
   "cell_type": "code",
   "execution_count": 1,
   "id": "ed0b87c4",
   "metadata": {},
   "outputs": [],
   "source": [
    "#https://medium.com/geekculture/a-tutorial-on-performing-sentiment-analysis-in-python-3-using-the-natural-language-toolkit-nltk-40e5b35ab440\n",
    "#https://medium.com/machine-learning-101/chapter-2-svm-support-vector-machine-coding-edd8f1cf8f2d\n",
    "import pandas as pd\n",
    "import string, re\n",
    "import unidecode"
   ]
  },
  {
   "cell_type": "code",
   "execution_count": 2,
   "id": "72827289",
   "metadata": {},
   "outputs": [],
   "source": [
    "df=pd.read_csv(\"C:/Users/mirah/OneDrive/TA/tokenizing.csv\")"
   ]
  },
  {
   "cell_type": "code",
   "execution_count": 3,
   "id": "a339facf",
   "metadata": {},
   "outputs": [
    {
     "data": {
      "text/html": [
       "<div>\n",
       "<style scoped>\n",
       "    .dataframe tbody tr th:only-of-type {\n",
       "        vertical-align: middle;\n",
       "    }\n",
       "\n",
       "    .dataframe tbody tr th {\n",
       "        vertical-align: top;\n",
       "    }\n",
       "\n",
       "    .dataframe thead th {\n",
       "        text-align: right;\n",
       "    }\n",
       "</style>\n",
       "<table border=\"1\" class=\"dataframe\">\n",
       "  <thead>\n",
       "    <tr style=\"text-align: right;\">\n",
       "      <th></th>\n",
       "      <th>Tweet</th>\n",
       "      <th>Sentiment</th>\n",
       "    </tr>\n",
       "  </thead>\n",
       "  <tbody>\n",
       "    <tr>\n",
       "      <th>0</th>\n",
       "      <td>['adin', 'harus', 'adik', 'apresiasi', 'disahk...</td>\n",
       "      <td>0</td>\n",
       "    </tr>\n",
       "    <tr>\n",
       "      <th>1</th>\n",
       "      <td>['siapa', 'bangun', 'tidur', 'haru', 'sekarang...</td>\n",
       "      <td>1</td>\n",
       "    </tr>\n",
       "    <tr>\n",
       "      <th>2</th>\n",
       "      <td>['stil', 'astonished', 'thriled', 'indonesian'...</td>\n",
       "      <td>1</td>\n",
       "    </tr>\n",
       "    <tr>\n",
       "      <th>3</th>\n",
       "      <td>['nyambeksyariah', 'lawan', 'pake', 'tpks']</td>\n",
       "      <td>1</td>\n",
       "    </tr>\n",
       "    <tr>\n",
       "      <th>4</th>\n",
       "      <td>['saksi', 'juang', 'dpr', 'sama', 'rakyat', 't...</td>\n",
       "      <td>1</td>\n",
       "    </tr>\n",
       "  </tbody>\n",
       "</table>\n",
       "</div>"
      ],
      "text/plain": [
       "                                               Tweet  Sentiment\n",
       "0  ['adin', 'harus', 'adik', 'apresiasi', 'disahk...          0\n",
       "1  ['siapa', 'bangun', 'tidur', 'haru', 'sekarang...          1\n",
       "2  ['stil', 'astonished', 'thriled', 'indonesian'...          1\n",
       "3        ['nyambeksyariah', 'lawan', 'pake', 'tpks']          1\n",
       "4  ['saksi', 'juang', 'dpr', 'sama', 'rakyat', 't...          1"
      ]
     },
     "execution_count": 3,
     "metadata": {},
     "output_type": "execute_result"
    }
   ],
   "source": [
    "df.head()"
   ]
  },
  {
   "cell_type": "code",
   "execution_count": 4,
   "id": "c6e92d9d",
   "metadata": {},
   "outputs": [],
   "source": [
    "from sklearn.model_selection import train_test_split\n",
    "\n",
    "X_train, X_test, y_train, y_test = train_test_split(df['Tweet'], df['Sentiment'], \n",
    "                                                    test_size=0.2, stratify=df['Sentiment'], random_state=None)\n",
    "\n",
    "from sklearn.feature_extraction.text import TfidfVectorizer\n",
    "\n",
    "vectorizer = TfidfVectorizer()\n",
    "# implementasi pada dokumen kita\n",
    "X_train = vectorizer.fit_transform(X_train)\n",
    "X_test = vectorizer.transform(X_test)"
   ]
  },
  {
   "cell_type": "code",
   "execution_count": 10,
   "id": "50a98861",
   "metadata": {},
   "outputs": [],
   "source": [
    "from sklearn import svm\n",
    "# import library evaluation\n",
    "from sklearn.metrics import f1_score, recall_score, precision_score, confusion_matrix, accuracy_score"
   ]
  },
  {
   "cell_type": "code",
   "execution_count": 11,
   "id": "5e92daa9",
   "metadata": {},
   "outputs": [
    {
     "name": "stdout",
     "output_type": "stream",
     "text": [
      "accuracy: \n",
      "0.9289617486338798\n",
      "precision: \n",
      "0.9328426862925483\n",
      "recall: \n",
      "0.9950932286555446\n",
      "f1 score: \n",
      "0.9629629629629629\n",
      "[[   6   73]\n",
      " [   5 1014]]\n"
     ]
    }
   ],
   "source": [
    "linear = svm.SVC(kernel=\"linear\")\n",
    "# lakukan prediksi pada data test\n",
    "linear.fit(X_train,y_train)\n",
    "y_pred = linear.predict(X_test)\n",
    "# accuracy score\n",
    "print(\"accuracy: \")\n",
    "print(accuracy_score(y_test, y_pred))\n",
    "\n",
    "# precision score\n",
    "print(\"precision: \")\n",
    "print(precision_score(y_test, y_pred, pos_label=1))\n",
    "\n",
    "# recall score\n",
    "print(\"recall: \")\n",
    "print(recall_score(y_test, y_pred, pos_label=1))\n",
    "# f1 score\n",
    "print(\"f1 score: \")\n",
    "print(f1_score(y_test, y_pred, pos_label=1))\n",
    "# confusion matrix\n",
    "print(confusion_matrix(y_test, y_pred))"
   ]
  },
  {
   "cell_type": "code",
   "execution_count": 12,
   "id": "9bbb0107",
   "metadata": {},
   "outputs": [
    {
     "name": "stdout",
     "output_type": "stream",
     "text": [
      "accuracy: \n",
      "0.9271402550091075\n",
      "precision: \n",
      "0.9279854147675478\n",
      "recall: \n",
      "0.9990186457311089\n",
      "f1 score: \n",
      "0.9621928166351605\n",
      "[[   0   79]\n",
      " [   1 1018]]\n"
     ]
    }
   ],
   "source": [
    "polinomial = svm.SVC(kernel=\"poly\")\n",
    "# lakukan prediksi pada data test\n",
    "polinomial.fit(X_train,y_train)\n",
    "y_pred = polinomial.predict(X_test)\n",
    "# accuracy score\n",
    "print(\"accuracy: \")\n",
    "print(accuracy_score(y_test, y_pred))\n",
    "\n",
    "# precision score\n",
    "print(\"precision: \")\n",
    "print(precision_score(y_test, y_pred, pos_label=1))\n",
    "\n",
    "# recall score\n",
    "print(\"recall: \")\n",
    "print(recall_score(y_test, y_pred, pos_label=1))\n",
    "# f1 score\n",
    "print(\"f1 score: \")\n",
    "print(f1_score(y_test, y_pred, pos_label=1))\n",
    "# confusion matrix\n",
    "print(confusion_matrix(y_test, y_pred))"
   ]
  },
  {
   "cell_type": "code",
   "execution_count": 13,
   "id": "87bdaf34",
   "metadata": {},
   "outputs": [
    {
     "name": "stdout",
     "output_type": "stream",
     "text": [
      "accuracy: \n",
      "0.9271402550091075\n",
      "precision: \n",
      "0.9279854147675478\n",
      "recall: \n",
      "0.9990186457311089\n",
      "f1 score: \n",
      "0.9621928166351605\n",
      "[[   0   79]\n",
      " [   1 1018]]\n"
     ]
    }
   ],
   "source": [
    "rbf = svm.SVC(kernel=\"rbf\")\n",
    "# lakukan prediksi pada data test\n",
    "rbf.fit(X_train,y_train)\n",
    "y_pred = rbf.predict(X_test)\n",
    "# accuracy score\n",
    "print(\"accuracy: \")\n",
    "print(accuracy_score(y_test, y_pred))\n",
    "\n",
    "# precision score\n",
    "print(\"precision: \")\n",
    "print(precision_score(y_test, y_pred, pos_label=1))\n",
    "\n",
    "# recall score\n",
    "print(\"recall: \")\n",
    "print(recall_score(y_test, y_pred, pos_label=1))\n",
    "# f1 score\n",
    "print(\"f1 score: \")\n",
    "print(f1_score(y_test, y_pred, pos_label=1))\n",
    "# confusion matrix\n",
    "print(confusion_matrix(y_test, y_pred))"
   ]
  },
  {
   "cell_type": "code",
   "execution_count": 15,
   "id": "00f7c6da",
   "metadata": {},
   "outputs": [
    {
     "name": "stdout",
     "output_type": "stream",
     "text": [
      "accuracy: \n",
      "0.9271402550091075\n",
      "precision: \n",
      "0.9303391384051329\n",
      "recall: \n",
      "0.9960745829244357\n",
      "f1 score: \n",
      "0.9620853080568721\n",
      "[[   3   76]\n",
      " [   4 1015]]\n"
     ]
    }
   ],
   "source": [
    "sigmo = svm.SVC(kernel=\"sigmoid\")\n",
    "# lakukan prediksi pada data test\n",
    "sigmo.fit(X_train,y_train)\n",
    "y_pred = sigmo.predict(X_test)\n",
    "# accuracy score\n",
    "print(\"accuracy: \")\n",
    "print(accuracy_score(y_test, y_pred))\n",
    "\n",
    "# precision score\n",
    "print(\"precision: \")\n",
    "print(precision_score(y_test, y_pred, pos_label=1))\n",
    "\n",
    "# recall score\n",
    "print(\"recall: \")\n",
    "print(recall_score(y_test, y_pred, pos_label=1))\n",
    "# f1 score\n",
    "print(\"f1 score: \")\n",
    "print(f1_score(y_test, y_pred, pos_label=1))\n",
    "# confusion matrix\n",
    "print(confusion_matrix(y_test, y_pred))"
   ]
  },
  {
   "cell_type": "code",
   "execution_count": null,
   "id": "545c4e7c",
   "metadata": {},
   "outputs": [],
   "source": []
  }
 ],
 "metadata": {
  "kernelspec": {
   "display_name": "Python 3 (ipykernel)",
   "language": "python",
   "name": "python3"
  },
  "language_info": {
   "codemirror_mode": {
    "name": "ipython",
    "version": 3
   },
   "file_extension": ".py",
   "mimetype": "text/x-python",
   "name": "python",
   "nbconvert_exporter": "python",
   "pygments_lexer": "ipython3",
   "version": "3.10.6"
  }
 },
 "nbformat": 4,
 "nbformat_minor": 5
}
