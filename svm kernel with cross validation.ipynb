{
 "cells": [
  {
   "cell_type": "code",
   "execution_count": 1,
   "id": "13e65004",
   "metadata": {},
   "outputs": [],
   "source": [
    "#https://medium.com/geekculture/a-tutorial-on-performing-sentiment-analysis-in-python-3-using-the-natural-language-toolkit-nltk-40e5b35ab440\n",
    "#https://medium.com/machine-learning-101/chapter-2-svm-support-vector-machine-coding-edd8f1cf8f2d\n",
    "import pandas as pd\n",
    "import string, re\n",
    "import unidecode"
   ]
  },
  {
   "cell_type": "code",
   "execution_count": 2,
   "id": "2172efd6",
   "metadata": {},
   "outputs": [],
   "source": [
    "df=pd.read_csv(\"C:/Users/mirah/OneDrive/TA/tokenizing.csv\")"
   ]
  },
  {
   "cell_type": "code",
   "execution_count": 3,
   "id": "e0a93816",
   "metadata": {},
   "outputs": [
    {
     "data": {
      "text/html": [
       "<div>\n",
       "<style scoped>\n",
       "    .dataframe tbody tr th:only-of-type {\n",
       "        vertical-align: middle;\n",
       "    }\n",
       "\n",
       "    .dataframe tbody tr th {\n",
       "        vertical-align: top;\n",
       "    }\n",
       "\n",
       "    .dataframe thead th {\n",
       "        text-align: right;\n",
       "    }\n",
       "</style>\n",
       "<table border=\"1\" class=\"dataframe\">\n",
       "  <thead>\n",
       "    <tr style=\"text-align: right;\">\n",
       "      <th></th>\n",
       "      <th>Tweet</th>\n",
       "      <th>Sentiment</th>\n",
       "    </tr>\n",
       "  </thead>\n",
       "  <tbody>\n",
       "    <tr>\n",
       "      <th>0</th>\n",
       "      <td>['adin', 'harus', 'adik', 'apresiasi', 'disahk...</td>\n",
       "      <td>0</td>\n",
       "    </tr>\n",
       "    <tr>\n",
       "      <th>1</th>\n",
       "      <td>['siapa', 'bangun', 'tidur', 'haru', 'sekarang...</td>\n",
       "      <td>1</td>\n",
       "    </tr>\n",
       "    <tr>\n",
       "      <th>2</th>\n",
       "      <td>['stil', 'astonished', 'thriled', 'indonesian'...</td>\n",
       "      <td>1</td>\n",
       "    </tr>\n",
       "    <tr>\n",
       "      <th>3</th>\n",
       "      <td>['nyambeksyariah', 'lawan', 'pake', 'tpks']</td>\n",
       "      <td>1</td>\n",
       "    </tr>\n",
       "    <tr>\n",
       "      <th>4</th>\n",
       "      <td>['saksi', 'juang', 'dpr', 'sama', 'rakyat', 't...</td>\n",
       "      <td>1</td>\n",
       "    </tr>\n",
       "  </tbody>\n",
       "</table>\n",
       "</div>"
      ],
      "text/plain": [
       "                                               Tweet  Sentiment\n",
       "0  ['adin', 'harus', 'adik', 'apresiasi', 'disahk...          0\n",
       "1  ['siapa', 'bangun', 'tidur', 'haru', 'sekarang...          1\n",
       "2  ['stil', 'astonished', 'thriled', 'indonesian'...          1\n",
       "3        ['nyambeksyariah', 'lawan', 'pake', 'tpks']          1\n",
       "4  ['saksi', 'juang', 'dpr', 'sama', 'rakyat', 't...          1"
      ]
     },
     "execution_count": 3,
     "metadata": {},
     "output_type": "execute_result"
    }
   ],
   "source": [
    "df.head()"
   ]
  },
  {
   "cell_type": "code",
   "execution_count": 4,
   "id": "54b61ad8",
   "metadata": {},
   "outputs": [],
   "source": [
    "from sklearn.model_selection import train_test_split\n",
    "\n",
    "X_train, X_test, y_train, y_test = train_test_split(df['Tweet'], df['Sentiment'], \n",
    "                                                    test_size=0.2, stratify=df['Sentiment'], random_state=None)\n",
    "\n",
    "from sklearn.feature_extraction.text import TfidfVectorizer\n",
    "\n",
    "vectorizer = TfidfVectorizer()\n",
    "# implementasi pada dokumen kita\n",
    "X_train = vectorizer.fit_transform(X_train)\n",
    "X_test = vectorizer.transform(X_test)"
   ]
  },
  {
   "cell_type": "code",
   "execution_count": 5,
   "id": "bb2ff09c",
   "metadata": {},
   "outputs": [],
   "source": [
    "from sklearn import svm\n",
    "from sklearn.model_selection import cross_val_score"
   ]
  },
  {
   "cell_type": "code",
   "execution_count": 6,
   "id": "c811e0f4",
   "metadata": {},
   "outputs": [
    {
     "data": {
      "text/plain": [
       "0.9298067421807554"
      ]
     },
     "execution_count": 6,
     "metadata": {},
     "output_type": "execute_result"
    }
   ],
   "source": [
    "linear = svm.SVC(kernel=\"linear\")\n",
    "\n",
    "svmlinear=cross_val_score(linear, X_train, y_train, cv=10)\n",
    "svmlinear.mean()"
   ]
  },
  {
   "cell_type": "code",
   "execution_count": 7,
   "id": "281ec586",
   "metadata": {},
   "outputs": [
    {
     "data": {
      "text/plain": [
       "0.9293530705445406"
      ]
     },
     "execution_count": 7,
     "metadata": {},
     "output_type": "execute_result"
    }
   ],
   "source": [
    "linear = svm.SVC(kernel=\"linear\")\n",
    "\n",
    "svmlinear=cross_val_score(linear, X_train, y_train, cv=9)\n",
    "svmlinear.mean()"
   ]
  },
  {
   "cell_type": "code",
   "execution_count": 8,
   "id": "4a5496fb",
   "metadata": {},
   "outputs": [
    {
     "data": {
      "text/plain": [
       "0.9304924015795142"
      ]
     },
     "execution_count": 8,
     "metadata": {},
     "output_type": "execute_result"
    }
   ],
   "source": [
    "linear = svm.SVC(kernel=\"linear\")\n",
    "\n",
    "svmlinear=cross_val_score(linear, X_train, y_train, cv=8)\n",
    "svmlinear.mean()"
   ]
  },
  {
   "cell_type": "code",
   "execution_count": 9,
   "id": "e697fe5b",
   "metadata": {},
   "outputs": [
    {
     "data": {
      "text/plain": [
       "0.9298074550302564"
      ]
     },
     "execution_count": 9,
     "metadata": {},
     "output_type": "execute_result"
    }
   ],
   "source": [
    "linear = svm.SVC(kernel=\"linear\")\n",
    "\n",
    "svmlinear=cross_val_score(linear, X_train, y_train, cv=7)\n",
    "svmlinear.mean()"
   ]
  },
  {
   "cell_type": "code",
   "execution_count": 10,
   "id": "b7d73377",
   "metadata": {},
   "outputs": [
    {
     "data": {
      "text/plain": [
       "0.927530398061181"
      ]
     },
     "execution_count": 10,
     "metadata": {},
     "output_type": "execute_result"
    }
   ],
   "source": [
    "polinomial = svm.SVC(kernel=\"poly\")\n",
    "\n",
    "svmpoli=cross_val_score(polinomial, X_train, y_train, cv=10)\n",
    "svmpoli.mean()"
   ]
  },
  {
   "cell_type": "code",
   "execution_count": 11,
   "id": "d8c6b661",
   "metadata": {},
   "outputs": [
    {
     "data": {
      "text/plain": [
       "0.9273029551583427"
      ]
     },
     "execution_count": 11,
     "metadata": {},
     "output_type": "execute_result"
    }
   ],
   "source": [
    "polinomial = svm.SVC(kernel=\"poly\")\n",
    "\n",
    "svmpoli=cross_val_score(polinomial, X_train, y_train, cv=9)\n",
    "svmpoli.mean()"
   ]
  },
  {
   "cell_type": "code",
   "execution_count": 12,
   "id": "3a807033",
   "metadata": {},
   "outputs": [
    {
     "data": {
      "text/plain": [
       "0.9275312279792057"
      ]
     },
     "execution_count": 12,
     "metadata": {},
     "output_type": "execute_result"
    }
   ],
   "source": [
    "polinomial = svm.SVC(kernel=\"poly\")\n",
    "\n",
    "svmpoli=cross_val_score(polinomial, X_train, y_train, cv=8)\n",
    "svmpoli.mean()"
   ]
  },
  {
   "cell_type": "code",
   "execution_count": 13,
   "id": "a29944f7",
   "metadata": {},
   "outputs": [
    {
     "data": {
      "text/plain": [
       "0.9273019172968725"
      ]
     },
     "execution_count": 13,
     "metadata": {},
     "output_type": "execute_result"
    }
   ],
   "source": [
    "polinomial = svm.SVC(kernel=\"poly\")\n",
    "\n",
    "svmpoli=cross_val_score(polinomial, X_train, y_train, cv=7)\n",
    "svmpoli.mean()"
   ]
  },
  {
   "cell_type": "code",
   "execution_count": 14,
   "id": "8ab86ff4",
   "metadata": {},
   "outputs": [
    {
     "data": {
      "text/plain": [
       "0.92866935022519"
      ]
     },
     "execution_count": 14,
     "metadata": {},
     "output_type": "execute_result"
    }
   ],
   "source": [
    "clfrbf = svm.SVC(kernel=\"rbf\")\n",
    "\n",
    "svmrbf=cross_val_score(clfrbf, X_train, y_train, cv=10)\n",
    "svmrbf.mean()"
   ]
  },
  {
   "cell_type": "code",
   "execution_count": 15,
   "id": "97982f5b",
   "metadata": {},
   "outputs": [
    {
     "data": {
      "text/plain": [
       "0.9282137019707289"
      ]
     },
     "execution_count": 15,
     "metadata": {},
     "output_type": "execute_result"
    }
   ],
   "source": [
    "clfrbf = svm.SVC(kernel=\"rbf\")\n",
    "\n",
    "svmrbf=cross_val_score(clfrbf, X_train, y_train, cv=9)\n",
    "svmrbf.mean()"
   ]
  },
  {
   "cell_type": "code",
   "execution_count": 16,
   "id": "bc234fd5",
   "metadata": {},
   "outputs": [
    {
     "data": {
      "text/plain": [
       "0.9282142880884954"
      ]
     },
     "execution_count": 16,
     "metadata": {},
     "output_type": "execute_result"
    }
   ],
   "source": [
    "clfrbf = svm.SVC(kernel=\"rbf\")\n",
    "\n",
    "svmrbf=cross_val_score(clfrbf, X_train, y_train, cv=8)\n",
    "svmrbf.mean()"
   ]
  },
  {
   "cell_type": "code",
   "execution_count": 17,
   "id": "af286c7d",
   "metadata": {},
   "outputs": [
    {
     "data": {
      "text/plain": [
       "0.9284411289624"
      ]
     },
     "execution_count": 17,
     "metadata": {},
     "output_type": "execute_result"
    }
   ],
   "source": [
    "clfrbf = svm.SVC(kernel=\"rbf\")\n",
    "\n",
    "svmrbf=cross_val_score(clfrbf, X_train, y_train, cv=7)\n",
    "svmrbf.mean()"
   ]
  },
  {
   "cell_type": "code",
   "execution_count": 18,
   "id": "0a62dbf5",
   "metadata": {},
   "outputs": [
    {
     "data": {
      "text/plain": [
       "0.9293522014541142"
      ]
     },
     "execution_count": 18,
     "metadata": {},
     "output_type": "execute_result"
    }
   ],
   "source": [
    "sigmo = svm.SVC(kernel=\"sigmoid\")\n",
    "\n",
    "svmsigmo=cross_val_score(sigmo, X_train, y_train, cv=10)\n",
    "svmsigmo.mean()"
   ]
  },
  {
   "cell_type": "code",
   "execution_count": 19,
   "id": "d1306821",
   "metadata": {},
   "outputs": [
    {
     "data": {
      "text/plain": [
       "0.9293516679570472"
      ]
     },
     "execution_count": 19,
     "metadata": {},
     "output_type": "execute_result"
    }
   ],
   "source": [
    "sigmo = svm.SVC(kernel=\"sigmoid\")\n",
    "\n",
    "svmsigmo=cross_val_score(sigmo, X_train, y_train, cv=9)\n",
    "svmsigmo.mean()"
   ]
  },
  {
   "cell_type": "code",
   "execution_count": 20,
   "id": "09fa916e",
   "metadata": {},
   "outputs": [
    {
     "data": {
      "text/plain": [
       "0.92980892598354"
      ]
     },
     "execution_count": 20,
     "metadata": {},
     "output_type": "execute_result"
    }
   ],
   "source": [
    "sigmo = svm.SVC(kernel=\"sigmoid\")\n",
    "\n",
    "svmsigmo=cross_val_score(sigmo, X_train, y_train, cv=8)\n",
    "svmsigmo.mean()"
   ]
  },
  {
   "cell_type": "code",
   "execution_count": 21,
   "id": "9f221afb",
   "metadata": {},
   "outputs": [
    {
     "data": {
      "text/plain": [
       "0.9295803406279275"
      ]
     },
     "execution_count": 21,
     "metadata": {},
     "output_type": "execute_result"
    }
   ],
   "source": [
    "sigmo = svm.SVC(kernel=\"sigmoid\")\n",
    "\n",
    "svmsigmo=cross_val_score(sigmo, X_train, y_train, cv=7)\n",
    "svmsigmo.mean()"
   ]
  },
  {
   "cell_type": "code",
   "execution_count": 32,
   "id": "d44b7f34",
   "metadata": {},
   "outputs": [],
   "source": [
    "#https://scikit-learn.org/stable/modules/generated/sklearn.svm.SVC.html\n",
    "#sigmo.fit(X_train, y_train)\n",
    "from sklearn.model_selection import cross_val_predict\n",
    "from sklearn.metrics import confusion_matrix\n",
    "y_pred = cross_val_predict(sigmo,X_test, y_test, cv=7)"
   ]
  },
  {
   "cell_type": "code",
   "execution_count": 33,
   "id": "ba344cdc",
   "metadata": {},
   "outputs": [
    {
     "data": {
      "text/plain": [
       "array([[   0,   79],\n",
       "       [   2, 1017]], dtype=int64)"
      ]
     },
     "execution_count": 33,
     "metadata": {},
     "output_type": "execute_result"
    }
   ],
   "source": [
    "conf_mat = confusion_matrix(y_test, y_pred)\n",
    "  \n",
    "conf_mat"
   ]
  },
  {
   "cell_type": "code",
   "execution_count": 34,
   "id": "04b2f0d9",
   "metadata": {},
   "outputs": [],
   "source": [
    "import matplotlib.pyplot as plt\n",
    "import seaborn as sns\n",
    "from sklearn.metrics import accuracy_score, classification_report, confusion_matrix\n",
    "# import library evaluation\n",
    "from sklearn.metrics import f1_score, recall_score, precision_score, confusion_matrix, accuracy_score"
   ]
  },
  {
   "cell_type": "code",
   "execution_count": 35,
   "id": "f8ef954f",
   "metadata": {},
   "outputs": [
    {
     "name": "stdout",
     "output_type": "stream",
     "text": [
      "accuracy: \n",
      "0.9262295081967213\n",
      "precision: \n",
      "0.9279197080291971\n",
      "recall: \n",
      "0.9980372914622179\n",
      "f1 score: \n",
      "0.9617021276595745\n",
      "[[   0   79]\n",
      " [   2 1017]]\n"
     ]
    }
   ],
   "source": [
    "# accuracy score\n",
    "print(\"accuracy: \")\n",
    "print(accuracy_score(y_test, y_pred))\n",
    "\n",
    "# precision score\n",
    "print(\"precision: \")\n",
    "print(precision_score(y_test, y_pred, pos_label=1))\n",
    "\n",
    "# recall score\n",
    "print(\"recall: \")\n",
    "print(recall_score(y_test, y_pred, pos_label=1))\n",
    "# f1 score\n",
    "print(\"f1 score: \")\n",
    "print(f1_score(y_test, y_pred, pos_label=1))\n",
    "# confusion matrix\n",
    "print(confusion_matrix(y_test, y_pred))"
   ]
  },
  {
   "cell_type": "code",
   "execution_count": 36,
   "id": "8a93e25d",
   "metadata": {},
   "outputs": [
    {
     "name": "stdout",
     "output_type": "stream",
     "text": [
      "accuracy: \n",
      "0.9262295081967213\n",
      "precision: \n",
      "0.9279197080291971\n",
      "recall: \n",
      "0.9980372914622179\n",
      "f1 score: \n",
      "0.9617021276595745\n",
      "[[   0   79]\n",
      " [   2 1017]]\n"
     ]
    }
   ],
   "source": [
    "y_pred = cross_val_predict(sigmo,X_test, y_test, cv=8)\n",
    "# accuracy score\n",
    "print(\"accuracy: \")\n",
    "print(accuracy_score(y_test, y_pred))\n",
    "\n",
    "# precision score\n",
    "print(\"precision: \")\n",
    "print(precision_score(y_test, y_pred, pos_label=1))\n",
    "\n",
    "# recall score\n",
    "print(\"recall: \")\n",
    "print(recall_score(y_test, y_pred, pos_label=1))\n",
    "# f1 score\n",
    "print(\"f1 score: \")\n",
    "print(f1_score(y_test, y_pred, pos_label=1))\n",
    "# confusion matrix\n",
    "print(confusion_matrix(y_test, y_pred))"
   ]
  },
  {
   "cell_type": "code",
   "execution_count": 40,
   "id": "6d89d4d7",
   "metadata": {},
   "outputs": [
    {
     "name": "stdout",
     "output_type": "stream",
     "text": [
      "accuracy: \n",
      "0.9280510018214936\n",
      "precision: \n",
      "0.9280510018214936\n",
      "recall: \n",
      "1.0\n",
      "f1 score: \n",
      "0.9626830420406235\n",
      "[[   0   79]\n",
      " [   0 1019]]\n"
     ]
    }
   ],
   "source": [
    "y_pred = cross_val_predict(clfrbf,X_test, y_test, cv=8)\n",
    "# accuracy score\n",
    "print(\"accuracy: \")\n",
    "print(accuracy_score(y_test, y_pred))\n",
    "\n",
    "# precision score\n",
    "print(\"precision: \")\n",
    "print(precision_score(y_test, y_pred, pos_label=1))\n",
    "\n",
    "# recall score\n",
    "print(\"recall: \")\n",
    "print(recall_score(y_test, y_pred, pos_label=1))\n",
    "# f1 score\n",
    "print(\"f1 score: \")\n",
    "print(f1_score(y_test, y_pred, pos_label=1))\n",
    "# confusion matrix\n",
    "print(confusion_matrix(y_test, y_pred))"
   ]
  },
  {
   "cell_type": "code",
   "execution_count": 44,
   "id": "982c0fc1",
   "metadata": {},
   "outputs": [
    {
     "name": "stdout",
     "output_type": "stream",
     "text": [
      "accuracy: \n",
      "0.9280510018214936\n",
      "precision: \n",
      "0.9280510018214936\n",
      "recall: \n",
      "1.0\n",
      "f1 score: \n",
      "0.9626830420406235\n",
      "[[   0   79]\n",
      " [   0 1019]]\n"
     ]
    }
   ],
   "source": [
    "y_pred = cross_val_predict(polinomial,X_test, y_test, cv=8)\n",
    "# accuracy score\n",
    "print(\"accuracy: \")\n",
    "print(accuracy_score(y_test, y_pred))\n",
    "\n",
    "# precision score\n",
    "print(\"precision: \")\n",
    "print(precision_score(y_test, y_pred, pos_label=1))\n",
    "\n",
    "# recall score\n",
    "print(\"recall: \")\n",
    "print(recall_score(y_test, y_pred, pos_label=1))\n",
    "# f1 score\n",
    "print(\"f1 score: \")\n",
    "print(f1_score(y_test, y_pred, pos_label=1))\n",
    "# confusion matrix\n",
    "print(confusion_matrix(y_test, y_pred))"
   ]
  },
  {
   "cell_type": "code",
   "execution_count": 48,
   "id": "2822d6cb",
   "metadata": {},
   "outputs": [
    {
     "name": "stdout",
     "output_type": "stream",
     "text": [
      "accuracy: \n",
      "0.924408014571949\n",
      "precision: \n",
      "0.9277879341864717\n",
      "recall: \n",
      "0.9960745829244357\n",
      "f1 score: \n",
      "0.9607193563653572\n",
      "[[   0   79]\n",
      " [   4 1015]]\n"
     ]
    }
   ],
   "source": [
    "y_pred = cross_val_predict(linear,X_test, y_test, cv=8)\n",
    "# accuracy score\n",
    "print(\"accuracy: \")\n",
    "print(accuracy_score(y_test, y_pred))\n",
    "\n",
    "# precision score\n",
    "print(\"precision: \")\n",
    "print(precision_score(y_test, y_pred, pos_label=1))\n",
    "\n",
    "# recall score\n",
    "print(\"recall: \")\n",
    "print(recall_score(y_test, y_pred, pos_label=1))\n",
    "# f1 score\n",
    "print(\"f1 score: \")\n",
    "print(f1_score(y_test, y_pred, pos_label=1))\n",
    "# confusion matrix\n",
    "print(confusion_matrix(y_test, y_pred))"
   ]
  },
  {
   "cell_type": "code",
   "execution_count": null,
   "id": "41707f92",
   "metadata": {},
   "outputs": [],
   "source": []
  }
 ],
 "metadata": {
  "kernelspec": {
   "display_name": "Python 3 (ipykernel)",
   "language": "python",
   "name": "python3"
  },
  "language_info": {
   "codemirror_mode": {
    "name": "ipython",
    "version": 3
   },
   "file_extension": ".py",
   "mimetype": "text/x-python",
   "name": "python",
   "nbconvert_exporter": "python",
   "pygments_lexer": "ipython3",
   "version": "3.10.6"
  }
 },
 "nbformat": 4,
 "nbformat_minor": 5
}
