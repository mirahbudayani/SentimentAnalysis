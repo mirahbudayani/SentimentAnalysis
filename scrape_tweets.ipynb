{
  "nbformat": 4,
  "nbformat_minor": 0,
  "metadata": {
    "colab": {
      "provenance": []
    },
    "kernelspec": {
      "name": "python3",
      "display_name": "Python 3"
    },
    "language_info": {
      "name": "python"
    }
  },
  "cells": [
    {
      "cell_type": "code",
      "source": [
        "pip install snscrape"
      ],
      "metadata": {
        "colab": {
          "base_uri": "https://localhost:8080/"
        },
        "id": "Z2obp-MqNR_P",
        "outputId": "ddb05a21-5c24-41c7-aba7-fc5d3edbfb73"
      },
      "execution_count": null,
      "outputs": [
        {
          "output_type": "stream",
          "name": "stdout",
          "text": [
            "Looking in indexes: https://pypi.org/simple, https://us-python.pkg.dev/colab-wheels/public/simple/\n",
            "Collecting snscrape\n",
            "  Downloading snscrape-0.3.4-py3-none-any.whl (35 kB)\n",
            "Requirement already satisfied: lxml in /usr/local/lib/python3.7/dist-packages (from snscrape) (4.9.1)\n",
            "Requirement already satisfied: requests[socks] in /usr/local/lib/python3.7/dist-packages (from snscrape) (2.23.0)\n",
            "Requirement already satisfied: beautifulsoup4 in /usr/local/lib/python3.7/dist-packages (from snscrape) (4.6.3)\n",
            "Requirement already satisfied: urllib3!=1.25.0,!=1.25.1,<1.26,>=1.21.1 in /usr/local/lib/python3.7/dist-packages (from requests[socks]->snscrape) (1.24.3)\n",
            "Requirement already satisfied: certifi>=2017.4.17 in /usr/local/lib/python3.7/dist-packages (from requests[socks]->snscrape) (2022.6.15)\n",
            "Requirement already satisfied: idna<3,>=2.5 in /usr/local/lib/python3.7/dist-packages (from requests[socks]->snscrape) (2.10)\n",
            "Requirement already satisfied: chardet<4,>=3.0.2 in /usr/local/lib/python3.7/dist-packages (from requests[socks]->snscrape) (3.0.4)\n",
            "Requirement already satisfied: PySocks!=1.5.7,>=1.5.6 in /usr/local/lib/python3.7/dist-packages (from requests[socks]->snscrape) (1.7.1)\n",
            "Installing collected packages: snscrape\n",
            "Successfully installed snscrape-0.3.4\n"
          ]
        }
      ]
    },
    {
      "cell_type": "code",
      "source": [
        "import snscrape.modules.twitter as sntwitter\n",
        "import pandas as pd"
      ],
      "metadata": {
        "id": "W6Hc4GBBNCIk"
      },
      "execution_count": null,
      "outputs": []
    },
    {
      "cell_type": "code",
      "source": [
        "query=\"uu tpks until:2022-04-20 since:2022-04-12\" #\n",
        "tweets=[]\n",
        "limit=6000"
      ],
      "metadata": {
        "id": "Rog1QXlYNN0B"
      },
      "execution_count": null,
      "outputs": []
    },
    {
      "cell_type": "code",
      "source": [
        "for tweet in sntwitter.TwitterSearchScraper(query).get_items():\n",
        "  if len(tweets)==limit:\n",
        "   break\n",
        "  else:\n",
        "    tweets.append([tweet.date, tweet.username, tweet.content])\n",
        "\n",
        "df=pd.DataFrame(tweets, columns=['Date', 'User', 'Tweet'])\n",
        "print(df)"
      ],
      "metadata": {
        "colab": {
          "base_uri": "https://localhost:8080/"
        },
        "id": "Wyt-6Gq5NfEA",
        "outputId": "b7301982-726e-4f35-fe83-531aab5b4176"
      },
      "execution_count": null,
      "outputs": [
        {
          "output_type": "stream",
          "name": "stdout",
          "text": [
            "                          Date          User  \\\n",
            "0    2022-04-19 23:30:40+00:00      fariedza   \n",
            "1    2022-04-19 22:54:59+00:00  FenandaPutri   \n",
            "2    2022-04-19 22:43:22+00:00    waltonkate   \n",
            "3    2022-04-19 22:29:09+00:00    purprainnn   \n",
            "4    2022-04-19 21:44:09+00:00       DPP_PKB   \n",
            "...                        ...           ...   \n",
            "5995 2022-04-12 10:30:01+00:00     widyakhr1   \n",
            "5996 2022-04-12 10:30:01+00:00      chaunu22   \n",
            "5997 2022-04-12 10:30:01+00:00      Isnari14   \n",
            "5998 2022-04-12 10:30:01+00:00   riolucasrio   \n",
            "5999 2022-04-12 10:30:01+00:00      Ratna050   \n",
            "\n",
            "                                                  Tweet  \n",
            "0     @Adiiiinnnnnn Harusnya adik2 juga mengapresias...  \n",
            "1     Siapa yang bangun tidur masih terharu sekarang...  \n",
            "2     Still astonished and thrilled about the Indone...  \n",
            "3              @nyambeksyariah harus lawan pake UU TPKS  \n",
            "4     Saksikan Perjuangan DPR RI bersama Rakyat untu...  \n",
            "...                                                 ...  \n",
            "5995  Ketua DPR Puan Maharani mendapat penghargaan t...  \n",
            "5996  Tindak Pidana Kekerasan Seksual (RUU TPKS) men...  \n",
            "5997  Saat pengesahan Puan menangis Karena Undang-Un...  \n",
            "5998  Salah satu poin penolakan PKS adalah agar RUU ...  \n",
            "5999  Keberhasilan Puan tak diragukan lagi ,dengan k...  \n",
            "\n",
            "[6000 rows x 3 columns]\n"
          ]
        }
      ]
    },
    {
      "cell_type": "code",
      "source": [
        "df.to_csv('datatweet.csv')"
      ],
      "metadata": {
        "id": "e-9paYB7Oeqk"
      },
      "execution_count": null,
      "outputs": []
    },
    {
      "cell_type": "code",
      "source": [],
      "metadata": {
        "id": "88AuGXd5Q-Of"
      },
      "execution_count": null,
      "outputs": []
    }
  ]
}